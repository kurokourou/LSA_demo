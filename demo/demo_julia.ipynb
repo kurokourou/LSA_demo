{
 "cells": [
  {
   "cell_type": "markdown",
   "metadata": {},
   "source": [
    "# Latent Semantic Analysis demo  \n",
    "---\n",
    "Demo LSA  \n",
    "Language: Julia  \n",
    "Origin: Alex Thomo's [tutorial](https://pdfs.semanticscholar.org/3efd/a6e61747fea6b5cb5fa4f3ff0a14c86a638c.pdf)"
   ]
  },
  {
   "cell_type": "code",
   "execution_count": 1,
   "metadata": {},
   "outputs": [],
   "source": [
    "using LinearAlgebra, TSVD"
   ]
  },
  {
   "cell_type": "markdown",
   "metadata": {},
   "source": [
    "**Example Documents:**  \n",
    "    d1:Romeo and Juliet.  \n",
    "    d2:Juliet: O happy dagger!  \n",
    "    d3:Romeo died by dagger.  \n",
    "    d4:“Live free or die”, that’s the New-Hampshire’s motto.  \n",
    "    d5:Did you know, New-Hampshire is in New-England.  \n",
    "\n",
    "**Term-Document Matrix Example:**\n",
    "![Doc-term matrix](images/matrix.png)"
   ]
  },
  {
   "cell_type": "code",
   "execution_count": 2,
   "metadata": {},
   "outputs": [],
   "source": [
    "term_dict = Dict(\"romeo\"=>1,\"juliet\"=>2,\"happy\"=>3, \"dagger\"=>4, \"live\"=>5,\n",
    "                 \"die\"=>6, \"free\"=>7, \"new-hampshire\"=>8);\n",
    "doc_dict = Dict(\"d1\"=>1,\"d2\"=>2,\"d3\"=>3,\"d4\"=>4,\"d5\"=>5);"
   ]
  },
  {
   "cell_type": "code",
   "execution_count": 3,
   "metadata": {},
   "outputs": [
    {
     "data": {
      "text/plain": [
       "8×5 Array{Int64,2}:\n",
       " 1  0  1  0  0\n",
       " 1  1  0  0  0\n",
       " 0  1  0  0  0\n",
       " 0  1  1  0  0\n",
       " 0  0  0  1  0\n",
       " 0  0  1  1  0\n",
       " 0  0  0  1  0\n",
       " 0  0  0  1  1"
      ]
     },
     "execution_count": 3,
     "metadata": {},
     "output_type": "execute_result"
    }
   ],
   "source": [
    "# Term-Document Matrix\n",
    "A = [1 0 1 0 0;\n",
    "     1 1 0 0 0;\n",
    "     0 1 0 0 0;\n",
    "     0 1 1 0 0;\n",
    "     0 0 0 1 0;\n",
    "     0 0 1 1 0;\n",
    "     0 0 0 1 0;\n",
    "     0 0 0 1 1]"
   ]
  },
  {
   "cell_type": "code",
   "execution_count": 4,
   "metadata": {},
   "outputs": [],
   "source": [
    "# Full Singular Value Decomposition\n",
    "U,Σ,V = svd(A);"
   ]
  },
  {
   "cell_type": "code",
   "execution_count": 5,
   "metadata": {},
   "outputs": [
    {
     "name": "stdout",
     "output_type": "stream",
     "text": [
      "Left singular vectors\n"
     ]
    },
    {
     "data": {
      "text/plain": [
       "8×5 Array{Float64,2}:\n",
       " -0.396153   0.280057  -0.571171    0.449685   -0.101839 \n",
       " -0.314268   0.449532   0.410591    0.513018    0.203906 \n",
       " -0.17824    0.268992   0.497321   -0.256998    0.0430523\n",
       " -0.438364   0.368508   0.0128792  -0.577329   -0.21964  \n",
       " -0.263881  -0.345921   0.145789    0.0474849   0.417484 \n",
       " -0.524005  -0.246405  -0.338652   -0.272846    0.154791 \n",
       " -0.263881  -0.345921   0.145789    0.0474849   0.417484 \n",
       " -0.326373  -0.459669   0.317003    0.237244   -0.724851 "
      ]
     },
     "execution_count": 5,
     "metadata": {},
     "output_type": "execute_result"
    }
   ],
   "source": [
    "println(\"Left singular vectors\")\n",
    "U"
   ]
  },
  {
   "cell_type": "code",
   "execution_count": 6,
   "metadata": {},
   "outputs": [
    {
     "name": "stdout",
     "output_type": "stream",
     "text": [
      "Singular values\n"
     ]
    },
    {
     "data": {
      "text/plain": [
       "5×5 Diagonal{Float64,Array{Float64,1}}:\n",
       " 2.2853   ⋅        ⋅       ⋅        ⋅      \n",
       "  ⋅      2.01026   ⋅       ⋅        ⋅      \n",
       "  ⋅       ⋅       1.3607   ⋅        ⋅      \n",
       "  ⋅       ⋅        ⋅      1.11814   ⋅      \n",
       "  ⋅       ⋅        ⋅       ⋅       0.796577"
      ]
     },
     "execution_count": 6,
     "metadata": {},
     "output_type": "execute_result"
    }
   ],
   "source": [
    "println(\"Singular values\")\n",
    "Diagonal(Σ)"
   ]
  },
  {
   "cell_type": "code",
   "execution_count": 7,
   "metadata": {},
   "outputs": [
    {
     "name": "stdout",
     "output_type": "stream",
     "text": [
      "Right singular vectors\n"
     ]
    },
    {
     "data": {
      "text/plain": [
       "5×5 Array{Float64,2}:\n",
       " -0.310866  -0.40733    -0.594461  -0.603046   -0.142814\n",
       "  0.362933   0.540742    0.200054  -0.695391   -0.228662\n",
       " -0.118013   0.676704   -0.659179   0.198375    0.232971\n",
       "  0.860986  -0.28736    -0.358175   0.0530948   0.212177\n",
       "  0.128132   0.0342945  -0.209255   0.332558   -0.909958"
      ]
     },
     "execution_count": 7,
     "metadata": {},
     "output_type": "execute_result"
    }
   ],
   "source": [
    "println(\"Right singular vectors\")\n",
    "transpose(V)"
   ]
  },
  {
   "cell_type": "code",
   "execution_count": 8,
   "metadata": {},
   "outputs": [],
   "source": [
    "U_2, Σ_2, V_2 = tsvd(A, 2);"
   ]
  },
  {
   "cell_type": "code",
   "execution_count": 9,
   "metadata": {},
   "outputs": [
    {
     "data": {
      "text/plain": [
       "8×2 Array{Float64,2}:\n",
       " -0.396153   0.280057\n",
       " -0.314268   0.449532\n",
       " -0.17824    0.268992\n",
       " -0.438364   0.368508\n",
       " -0.263881  -0.345921\n",
       " -0.524005  -0.246405\n",
       " -0.263881  -0.345921\n",
       " -0.326373  -0.459669"
      ]
     },
     "execution_count": 9,
     "metadata": {},
     "output_type": "execute_result"
    }
   ],
   "source": [
    "U_2"
   ]
  },
  {
   "cell_type": "code",
   "execution_count": 10,
   "metadata": {},
   "outputs": [
    {
     "data": {
      "text/plain": [
       "2×5 Transpose{Float64,Array{Float64,2}}:\n",
       " -0.310866  -0.40733   -0.594461  -0.603046  -0.142814\n",
       "  0.362933   0.540742   0.200054  -0.695391  -0.228662"
      ]
     },
     "execution_count": 10,
     "metadata": {},
     "output_type": "execute_result"
    }
   ],
   "source": [
    "transpose(V_2)"
   ]
  },
  {
   "cell_type": "code",
   "execution_count": 11,
   "metadata": {},
   "outputs": [
    {
     "data": {
      "text/plain": [
       "8×5 Array{Float64,2}:\n",
       "  0.485762    0.673199  0.65081    0.154457    0.00056003\n",
       "  0.551237    0.781199  0.607724  -0.195303   -0.104067  \n",
       "  0.322878    0.45832   0.35032   -0.130389   -0.0654744 \n",
       "  0.580283    0.808641  0.743726   0.0889825  -0.0263216 \n",
       " -0.0649144  -0.130389  0.219371   0.847233    0.245133  \n",
       "  0.19249     0.219931  0.612777   1.0666      0.284286  \n",
       " -0.0649144  -0.130389  0.219371   0.847233    0.245133  \n",
       " -0.103507   -0.195863  0.258524   1.09237     0.317815  "
      ]
     },
     "execution_count": 11,
     "metadata": {},
     "output_type": "execute_result"
    }
   ],
   "source": [
    "# Low rank approximation\n",
    "A_2 = U_2 * Diagonal(Σ_2) * transpose(V_2)"
   ]
  },
  {
   "cell_type": "code",
   "execution_count": 12,
   "metadata": {},
   "outputs": [
    {
     "data": {
      "text/plain": [
       "8×2 Array{Float64,2}:\n",
       " -0.905327   0.562988\n",
       " -0.718196   0.903676\n",
       " -0.40733    0.540742\n",
       " -1.00179    0.740797\n",
       " -0.603046  -0.695391\n",
       " -1.19751   -0.495337\n",
       " -0.603046  -0.695391\n",
       " -0.74586   -0.924053"
      ]
     },
     "execution_count": 12,
     "metadata": {},
     "output_type": "execute_result"
    }
   ],
   "source": [
    "# Terms matrix \n",
    "Term_Mat = U_2*Diagonal(Σ_2)"
   ]
  },
  {
   "cell_type": "code",
   "execution_count": 13,
   "metadata": {},
   "outputs": [
    {
     "data": {
      "text/plain": [
       "2×5 Array{Float64,2}:\n",
       " -0.710421  -0.930871  -1.35852   -1.37814  -0.326373\n",
       "  0.72959    1.08703    0.402161  -1.39792  -0.459669"
      ]
     },
     "execution_count": 13,
     "metadata": {},
     "output_type": "execute_result"
    }
   ],
   "source": [
    "# Document matrix\n",
    "Doc_Mat = Diagonal(Σ_2)*transpose(V_2)"
   ]
  },
  {
   "cell_type": "code",
   "execution_count": 14,
   "metadata": {},
   "outputs": [
    {
     "data": {
      "text/plain": [
       "5×2 Transpose{Float64,Array{Float64,2}}:\n",
       " -0.710421   0.72959 \n",
       " -0.930871   1.08703 \n",
       " -1.35852    0.402161\n",
       " -1.37814   -1.39792 \n",
       " -0.326373  -0.459669"
      ]
     },
     "execution_count": 14,
     "metadata": {},
     "output_type": "execute_result"
    }
   ],
   "source": [
    "transpose(Doc_Mat)"
   ]
  },
  {
   "cell_type": "markdown",
   "metadata": {},
   "source": [
    "**Example Query:** q = die , dagger"
   ]
  },
  {
   "cell_type": "code",
   "execution_count": 15,
   "metadata": {},
   "outputs": [
    {
     "data": {
      "text/plain": [
       "2-element Array{Float64,1}:\n",
       " -1.0996494544510025\n",
       "  0.1227299380591082"
      ]
     },
     "execution_count": 15,
     "metadata": {},
     "output_type": "execute_result"
    }
   ],
   "source": [
    "# Query representation\n",
    "# die = [-1.19751   -0.495337]\n",
    "# dagger = [-1.00179    0.740797]\n",
    "die = Term_Mat[term_dict[\"die\"],:]\n",
    "dagger = Term_Mat[term_dict[\"dagger\"],:]\n",
    "q = (die + dagger)/2\n",
    "q"
   ]
  },
  {
   "cell_type": "code",
   "execution_count": 16,
   "metadata": {},
   "outputs": [
    {
     "data": {
      "text/plain": [
       "0.7727964887537568"
      ]
     },
     "execution_count": 16,
     "metadata": {},
     "output_type": "execute_result"
    }
   ],
   "source": [
    "# Documents similarity ranking\n",
    "# Ex: d1 [-0.710421 0.72959]\n",
    "d1 = Doc_Mat[:,doc_dict[\"d1\"]]\n",
    "sim = dot(q,d1)/(norm(q)*norm(d1))"
   ]
  },
  {
   "cell_type": "markdown",
   "metadata": {},
   "source": [
    "![Documents and query similarity](images/doc_sim.png)"
   ]
  },
  {
   "cell_type": "markdown",
   "metadata": {},
   "source": [
    "## Visualize words"
   ]
  },
  {
   "cell_type": "code",
   "execution_count": 17,
   "metadata": {},
   "outputs": [
    {
     "data": {
      "text/plain": [
       "Plots.GRBackend()"
      ]
     },
     "execution_count": 17,
     "metadata": {},
     "output_type": "execute_result"
    }
   ],
   "source": [
    "using Plots; gr()"
   ]
  },
  {
   "cell_type": "code",
   "execution_count": 18,
   "metadata": {
    "scrolled": true
   },
   "outputs": [
    {
     "data": {
      "image/svg+xml": [
       "<?xml version=\"1.0\" encoding=\"utf-8\"?>\n",
       "<svg xmlns=\"http://www.w3.org/2000/svg\" xmlns:xlink=\"http://www.w3.org/1999/xlink\" width=\"600\" height=\"400\" viewBox=\"0 0 2400 1600\">\n",
       "<defs>\n",
       "  <clipPath id=\"clip6400\">\n",
       "    <rect x=\"0\" y=\"0\" width=\"2400\" height=\"1600\"/>\n",
       "  </clipPath>\n",
       "</defs>\n",
       "<path clip-path=\"url(#clip6400)\" d=\"\n",
       "M0 1600 L2400 1600 L2400 0 L0 0  Z\n",
       "  \" fill=\"#ffffff\" fill-rule=\"evenodd\" fill-opacity=\"1\"/>\n",
       "<defs>\n",
       "  <clipPath id=\"clip6401\">\n",
       "    <rect x=\"480\" y=\"0\" width=\"1681\" height=\"1600\"/>\n",
       "  </clipPath>\n",
       "</defs>\n",
       "<path clip-path=\"url(#clip6400)\" d=\"\n",
       "M208.77 1487.47 L2352.76 1487.47 L2352.76 47.2441 L208.77 47.2441  Z\n",
       "  \" fill=\"#ffffff\" fill-rule=\"evenodd\" fill-opacity=\"1\"/>\n",
       "<defs>\n",
       "  <clipPath id=\"clip6402\">\n",
       "    <rect x=\"208\" y=\"47\" width=\"2145\" height=\"1441\"/>\n",
       "  </clipPath>\n",
       "</defs>\n",
       "<polyline clip-path=\"url(#clip6402)\" style=\"stroke:#000000; stroke-width:2; stroke-opacity:0.1; fill:none\" points=\"\n",
       "  263.068,1487.47 263.068,47.2441 \n",
       "  \"/>\n",
       "<polyline clip-path=\"url(#clip6402)\" style=\"stroke:#000000; stroke-width:2; stroke-opacity:0.1; fill:none\" points=\"\n",
       "  775.011,1487.47 775.011,47.2441 \n",
       "  \"/>\n",
       "<polyline clip-path=\"url(#clip6402)\" style=\"stroke:#000000; stroke-width:2; stroke-opacity:0.1; fill:none\" points=\"\n",
       "  1286.95,1487.47 1286.95,47.2441 \n",
       "  \"/>\n",
       "<polyline clip-path=\"url(#clip6402)\" style=\"stroke:#000000; stroke-width:2; stroke-opacity:0.1; fill:none\" points=\"\n",
       "  1798.9,1487.47 1798.9,47.2441 \n",
       "  \"/>\n",
       "<polyline clip-path=\"url(#clip6402)\" style=\"stroke:#000000; stroke-width:2; stroke-opacity:0.1; fill:none\" points=\"\n",
       "  2310.84,1487.47 2310.84,47.2441 \n",
       "  \"/>\n",
       "<polyline clip-path=\"url(#clip6402)\" style=\"stroke:#000000; stroke-width:2; stroke-opacity:0.1; fill:none\" points=\"\n",
       "  208.77,1317.32 2352.76,1317.32 \n",
       "  \"/>\n",
       "<polyline clip-path=\"url(#clip6402)\" style=\"stroke:#000000; stroke-width:2; stroke-opacity:0.1; fill:none\" points=\"\n",
       "  208.77,1131.48 2352.76,1131.48 \n",
       "  \"/>\n",
       "<polyline clip-path=\"url(#clip6402)\" style=\"stroke:#000000; stroke-width:2; stroke-opacity:0.1; fill:none\" points=\"\n",
       "  208.77,945.632 2352.76,945.632 \n",
       "  \"/>\n",
       "<polyline clip-path=\"url(#clip6402)\" style=\"stroke:#000000; stroke-width:2; stroke-opacity:0.1; fill:none\" points=\"\n",
       "  208.77,759.785 2352.76,759.785 \n",
       "  \"/>\n",
       "<polyline clip-path=\"url(#clip6402)\" style=\"stroke:#000000; stroke-width:2; stroke-opacity:0.1; fill:none\" points=\"\n",
       "  208.77,573.939 2352.76,573.939 \n",
       "  \"/>\n",
       "<polyline clip-path=\"url(#clip6402)\" style=\"stroke:#000000; stroke-width:2; stroke-opacity:0.1; fill:none\" points=\"\n",
       "  208.77,388.092 2352.76,388.092 \n",
       "  \"/>\n",
       "<polyline clip-path=\"url(#clip6402)\" style=\"stroke:#000000; stroke-width:2; stroke-opacity:0.1; fill:none\" points=\"\n",
       "  208.77,202.246 2352.76,202.246 \n",
       "  \"/>\n",
       "<polyline clip-path=\"url(#clip6400)\" style=\"stroke:#000000; stroke-width:4; stroke-opacity:1; fill:none\" points=\"\n",
       "  208.77,1487.47 2352.76,1487.47 \n",
       "  \"/>\n",
       "<polyline clip-path=\"url(#clip6400)\" style=\"stroke:#000000; stroke-width:4; stroke-opacity:1; fill:none\" points=\"\n",
       "  208.77,1487.47 208.77,47.2441 \n",
       "  \"/>\n",
       "<polyline clip-path=\"url(#clip6400)\" style=\"stroke:#000000; stroke-width:4; stroke-opacity:1; fill:none\" points=\"\n",
       "  263.068,1487.47 263.068,1465.87 \n",
       "  \"/>\n",
       "<polyline clip-path=\"url(#clip6400)\" style=\"stroke:#000000; stroke-width:4; stroke-opacity:1; fill:none\" points=\"\n",
       "  775.011,1487.47 775.011,1465.87 \n",
       "  \"/>\n",
       "<polyline clip-path=\"url(#clip6400)\" style=\"stroke:#000000; stroke-width:4; stroke-opacity:1; fill:none\" points=\"\n",
       "  1286.95,1487.47 1286.95,1465.87 \n",
       "  \"/>\n",
       "<polyline clip-path=\"url(#clip6400)\" style=\"stroke:#000000; stroke-width:4; stroke-opacity:1; fill:none\" points=\"\n",
       "  1798.9,1487.47 1798.9,1465.87 \n",
       "  \"/>\n",
       "<polyline clip-path=\"url(#clip6400)\" style=\"stroke:#000000; stroke-width:4; stroke-opacity:1; fill:none\" points=\"\n",
       "  2310.84,1487.47 2310.84,1465.87 \n",
       "  \"/>\n",
       "<polyline clip-path=\"url(#clip6400)\" style=\"stroke:#000000; stroke-width:4; stroke-opacity:1; fill:none\" points=\"\n",
       "  208.77,1317.32 240.93,1317.32 \n",
       "  \"/>\n",
       "<polyline clip-path=\"url(#clip6400)\" style=\"stroke:#000000; stroke-width:4; stroke-opacity:1; fill:none\" points=\"\n",
       "  208.77,1131.48 240.93,1131.48 \n",
       "  \"/>\n",
       "<polyline clip-path=\"url(#clip6400)\" style=\"stroke:#000000; stroke-width:4; stroke-opacity:1; fill:none\" points=\"\n",
       "  208.77,945.632 240.93,945.632 \n",
       "  \"/>\n",
       "<polyline clip-path=\"url(#clip6400)\" style=\"stroke:#000000; stroke-width:4; stroke-opacity:1; fill:none\" points=\"\n",
       "  208.77,759.785 240.93,759.785 \n",
       "  \"/>\n",
       "<polyline clip-path=\"url(#clip6400)\" style=\"stroke:#000000; stroke-width:4; stroke-opacity:1; fill:none\" points=\"\n",
       "  208.77,573.939 240.93,573.939 \n",
       "  \"/>\n",
       "<polyline clip-path=\"url(#clip6400)\" style=\"stroke:#000000; stroke-width:4; stroke-opacity:1; fill:none\" points=\"\n",
       "  208.77,388.092 240.93,388.092 \n",
       "  \"/>\n",
       "<polyline clip-path=\"url(#clip6400)\" style=\"stroke:#000000; stroke-width:4; stroke-opacity:1; fill:none\" points=\"\n",
       "  208.77,202.246 240.93,202.246 \n",
       "  \"/>\n",
       "<g clip-path=\"url(#clip6400)\">\n",
       "<text style=\"fill:#000000; fill-opacity:1; font-family:Arial,Helvetica Neue,Helvetica,sans-serif; font-size:48px; text-anchor:middle;\" transform=\"rotate(0, 263.068, 1541.47)\" x=\"263.068\" y=\"1541.47\">-1.2</text>\n",
       "</g>\n",
       "<g clip-path=\"url(#clip6400)\">\n",
       "<text style=\"fill:#000000; fill-opacity:1; font-family:Arial,Helvetica Neue,Helvetica,sans-serif; font-size:48px; text-anchor:middle;\" transform=\"rotate(0, 775.011, 1541.47)\" x=\"775.011\" y=\"1541.47\">-1.0</text>\n",
       "</g>\n",
       "<g clip-path=\"url(#clip6400)\">\n",
       "<text style=\"fill:#000000; fill-opacity:1; font-family:Arial,Helvetica Neue,Helvetica,sans-serif; font-size:48px; text-anchor:middle;\" transform=\"rotate(0, 1286.95, 1541.47)\" x=\"1286.95\" y=\"1541.47\">-0.8</text>\n",
       "</g>\n",
       "<g clip-path=\"url(#clip6400)\">\n",
       "<text style=\"fill:#000000; fill-opacity:1; font-family:Arial,Helvetica Neue,Helvetica,sans-serif; font-size:48px; text-anchor:middle;\" transform=\"rotate(0, 1798.9, 1541.47)\" x=\"1798.9\" y=\"1541.47\">-0.6</text>\n",
       "</g>\n",
       "<g clip-path=\"url(#clip6400)\">\n",
       "<text style=\"fill:#000000; fill-opacity:1; font-family:Arial,Helvetica Neue,Helvetica,sans-serif; font-size:48px; text-anchor:middle;\" transform=\"rotate(0, 2310.84, 1541.47)\" x=\"2310.84\" y=\"1541.47\">-0.4</text>\n",
       "</g>\n",
       "<g clip-path=\"url(#clip6400)\">\n",
       "<text style=\"fill:#000000; fill-opacity:1; font-family:Arial,Helvetica Neue,Helvetica,sans-serif; font-size:48px; text-anchor:end;\" transform=\"rotate(0, 184.77, 1334.82)\" x=\"184.77\" y=\"1334.82\">-0.75</text>\n",
       "</g>\n",
       "<g clip-path=\"url(#clip6400)\">\n",
       "<text style=\"fill:#000000; fill-opacity:1; font-family:Arial,Helvetica Neue,Helvetica,sans-serif; font-size:48px; text-anchor:end;\" transform=\"rotate(0, 184.77, 1148.98)\" x=\"184.77\" y=\"1148.98\">-0.50</text>\n",
       "</g>\n",
       "<g clip-path=\"url(#clip6400)\">\n",
       "<text style=\"fill:#000000; fill-opacity:1; font-family:Arial,Helvetica Neue,Helvetica,sans-serif; font-size:48px; text-anchor:end;\" transform=\"rotate(0, 184.77, 963.132)\" x=\"184.77\" y=\"963.132\">-0.25</text>\n",
       "</g>\n",
       "<g clip-path=\"url(#clip6400)\">\n",
       "<text style=\"fill:#000000; fill-opacity:1; font-family:Arial,Helvetica Neue,Helvetica,sans-serif; font-size:48px; text-anchor:end;\" transform=\"rotate(0, 184.77, 777.285)\" x=\"184.77\" y=\"777.285\">0.00</text>\n",
       "</g>\n",
       "<g clip-path=\"url(#clip6400)\">\n",
       "<text style=\"fill:#000000; fill-opacity:1; font-family:Arial,Helvetica Neue,Helvetica,sans-serif; font-size:48px; text-anchor:end;\" transform=\"rotate(0, 184.77, 591.439)\" x=\"184.77\" y=\"591.439\">0.25</text>\n",
       "</g>\n",
       "<g clip-path=\"url(#clip6400)\">\n",
       "<text style=\"fill:#000000; fill-opacity:1; font-family:Arial,Helvetica Neue,Helvetica,sans-serif; font-size:48px; text-anchor:end;\" transform=\"rotate(0, 184.77, 405.592)\" x=\"184.77\" y=\"405.592\">0.50</text>\n",
       "</g>\n",
       "<g clip-path=\"url(#clip6400)\">\n",
       "<text style=\"fill:#000000; fill-opacity:1; font-family:Arial,Helvetica Neue,Helvetica,sans-serif; font-size:48px; text-anchor:end;\" transform=\"rotate(0, 184.77, 219.746)\" x=\"184.77\" y=\"219.746\">0.75</text>\n",
       "</g>\n",
       "<circle clip-path=\"url(#clip6402)\" style=\"fill:#000000; stroke:none; fill-opacity:1\" cx=\"1017.35\" cy=\"341.268\" r=\"18\"/>\n",
       "<circle clip-path=\"url(#clip6402)\" style=\"fill:#0000ff; stroke:none; fill-opacity:1\" cx=\"1017.35\" cy=\"341.268\" r=\"14\"/>\n",
       "<circle clip-path=\"url(#clip6402)\" style=\"fill:#000000; stroke:none; fill-opacity:1\" cx=\"1496.35\" cy=\"88.0053\" r=\"18\"/>\n",
       "<circle clip-path=\"url(#clip6402)\" style=\"fill:#0000ff; stroke:none; fill-opacity:1\" cx=\"1496.35\" cy=\"88.0053\" r=\"14\"/>\n",
       "<circle clip-path=\"url(#clip6402)\" style=\"fill:#000000; stroke:none; fill-opacity:1\" cx=\"2292.08\" cy=\"357.805\" r=\"18\"/>\n",
       "<circle clip-path=\"url(#clip6402)\" style=\"fill:#0000ff; stroke:none; fill-opacity:1\" cx=\"2292.08\" cy=\"357.805\" r=\"14\"/>\n",
       "<circle clip-path=\"url(#clip6402)\" style=\"fill:#000000; stroke:none; fill-opacity:1\" cx=\"770.425\" cy=\"209.087\" r=\"18\"/>\n",
       "<circle clip-path=\"url(#clip6402)\" style=\"fill:#0000ff; stroke:none; fill-opacity:1\" cx=\"770.425\" cy=\"209.087\" r=\"14\"/>\n",
       "<circle clip-path=\"url(#clip6402)\" style=\"fill:#000000; stroke:none; fill-opacity:1\" cx=\"1791.1\" cy=\"1276.73\" r=\"18\"/>\n",
       "<circle clip-path=\"url(#clip6402)\" style=\"fill:#0000ff; stroke:none; fill-opacity:1\" cx=\"1791.1\" cy=\"1276.73\" r=\"14\"/>\n",
       "<circle clip-path=\"url(#clip6402)\" style=\"fill:#000000; stroke:none; fill-opacity:1\" cx=\"269.449\" cy=\"1128.01\" r=\"18\"/>\n",
       "<circle clip-path=\"url(#clip6402)\" style=\"fill:#0000ff; stroke:none; fill-opacity:1\" cx=\"269.449\" cy=\"1128.01\" r=\"14\"/>\n",
       "<circle clip-path=\"url(#clip6402)\" style=\"fill:#000000; stroke:none; fill-opacity:1\" cx=\"1791.1\" cy=\"1276.73\" r=\"18\"/>\n",
       "<circle clip-path=\"url(#clip6402)\" style=\"fill:#0000ff; stroke:none; fill-opacity:1\" cx=\"1791.1\" cy=\"1276.73\" r=\"14\"/>\n",
       "<circle clip-path=\"url(#clip6402)\" style=\"fill:#000000; stroke:none; fill-opacity:1\" cx=\"1425.54\" cy=\"1446.71\" r=\"18\"/>\n",
       "<circle clip-path=\"url(#clip6402)\" style=\"fill:#0000ff; stroke:none; fill-opacity:1\" cx=\"1425.54\" cy=\"1446.71\" r=\"14\"/>\n",
       "<g clip-path=\"url(#clip6400)\">\n",
       "<text style=\"fill:#000000; fill-opacity:1; font-family:Arial,Helvetica Neue,Helvetica,sans-serif; font-size:84px; text-anchor:middle;\" transform=\"rotate(0, 1017.35, 371.768)\" x=\"1017.35\" y=\"371.768\">romeo</text>\n",
       "</g>\n",
       "<g clip-path=\"url(#clip6400)\">\n",
       "<text style=\"fill:#000000; fill-opacity:1; font-family:Arial,Helvetica Neue,Helvetica,sans-serif; font-size:84px; text-anchor:middle;\" transform=\"rotate(0, 1496.35, 118.505)\" x=\"1496.35\" y=\"118.505\">juliet</text>\n",
       "</g>\n",
       "<g clip-path=\"url(#clip6400)\">\n",
       "<text style=\"fill:#000000; fill-opacity:1; font-family:Arial,Helvetica Neue,Helvetica,sans-serif; font-size:84px; text-anchor:middle;\" transform=\"rotate(0, 2292.08, 388.305)\" x=\"2292.08\" y=\"388.305\">happy</text>\n",
       "</g>\n",
       "<g clip-path=\"url(#clip6400)\">\n",
       "<text style=\"fill:#000000; fill-opacity:1; font-family:Arial,Helvetica Neue,Helvetica,sans-serif; font-size:84px; text-anchor:middle;\" transform=\"rotate(0, 770.425, 239.587)\" x=\"770.425\" y=\"239.587\">dagger</text>\n",
       "</g>\n",
       "<g clip-path=\"url(#clip6400)\">\n",
       "<text style=\"fill:#000000; fill-opacity:1; font-family:Arial,Helvetica Neue,Helvetica,sans-serif; font-size:84px; text-anchor:middle;\" transform=\"rotate(0, 1791.1, 1307.23)\" x=\"1791.1\" y=\"1307.23\">live</text>\n",
       "</g>\n",
       "<g clip-path=\"url(#clip6400)\">\n",
       "<text style=\"fill:#000000; fill-opacity:1; font-family:Arial,Helvetica Neue,Helvetica,sans-serif; font-size:84px; text-anchor:middle;\" transform=\"rotate(0, 269.449, 1158.51)\" x=\"269.449\" y=\"1158.51\">die</text>\n",
       "</g>\n",
       "<g clip-path=\"url(#clip6400)\">\n",
       "<text style=\"fill:#000000; fill-opacity:1; font-family:Arial,Helvetica Neue,Helvetica,sans-serif; font-size:84px; text-anchor:middle;\" transform=\"rotate(0, 1791.1, 1307.23)\" x=\"1791.1\" y=\"1307.23\">free</text>\n",
       "</g>\n",
       "<g clip-path=\"url(#clip6400)\">\n",
       "<text style=\"fill:#000000; fill-opacity:1; font-family:Arial,Helvetica Neue,Helvetica,sans-serif; font-size:84px; text-anchor:middle;\" transform=\"rotate(0, 1425.54, 1477.21)\" x=\"1425.54\" y=\"1477.21\">new-hampshire</text>\n",
       "</g>\n",
       "<path clip-path=\"url(#clip6400)\" d=\"\n",
       "M1989.93 251.724 L2280.76 251.724 L2280.76 130.764 L1989.93 130.764  Z\n",
       "  \" fill=\"#ffffff\" fill-rule=\"evenodd\" fill-opacity=\"1\"/>\n",
       "<polyline clip-path=\"url(#clip6400)\" style=\"stroke:#000000; stroke-width:4; stroke-opacity:1; fill:none\" points=\"\n",
       "  1989.93,251.724 2280.76,251.724 2280.76,130.764 1989.93,130.764 1989.93,251.724 \n",
       "  \"/>\n",
       "<circle clip-path=\"url(#clip6400)\" style=\"fill:#000000; stroke:none; fill-opacity:1\" cx=\"2097.93\" cy=\"191.244\" r=\"25\"/>\n",
       "<circle clip-path=\"url(#clip6400)\" style=\"fill:#0000ff; stroke:none; fill-opacity:1\" cx=\"2097.93\" cy=\"191.244\" r=\"21\"/>\n",
       "<g clip-path=\"url(#clip6400)\">\n",
       "<text style=\"fill:#000000; fill-opacity:1; font-family:Arial,Helvetica Neue,Helvetica,sans-serif; font-size:48px; text-anchor:start;\" transform=\"rotate(0, 2181.93, 208.744)\" x=\"2181.93\" y=\"208.744\">y1</text>\n",
       "</g>\n",
       "</svg>\n"
      ]
     },
     "execution_count": 18,
     "metadata": {},
     "output_type": "execute_result"
    }
   ],
   "source": [
    "ys = Term_Mat\n",
    "scatter(Term_Mat[:,1],Term_Mat[:,2],\n",
    "    series_annotations=[\"romeo\", \"juliet\", \"happy\", \"dagger\", \"live\", \"die\", \"free\", \"new-hampshire\"],\n",
    "    c=:blue)"
   ]
  }
 ],
 "metadata": {
  "kernelspec": {
   "display_name": "Julia 1.2.0",
   "language": "julia",
   "name": "julia-1.2"
  },
  "language_info": {
   "file_extension": ".jl",
   "mimetype": "application/julia",
   "name": "julia",
   "version": "1.2.0"
  }
 },
 "nbformat": 4,
 "nbformat_minor": 2
}
