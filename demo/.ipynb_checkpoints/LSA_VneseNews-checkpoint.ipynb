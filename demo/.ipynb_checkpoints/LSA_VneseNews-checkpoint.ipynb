{
 "cells": [
  {
   "cell_type": "markdown",
   "metadata": {},
   "source": [
    "# Demo LSA\n",
    "Using LSA for VNese News and classification"
   ]
  },
  {
   "cell_type": "markdown",
   "metadata": {},
   "source": [
    "## 1. Load Data "
   ]
  },
  {
   "cell_type": "code",
   "execution_count": 1,
   "metadata": {},
   "outputs": [],
   "source": [
    "import os\n",
    "from tqdm import tqdm "
   ]
  },
  {
   "cell_type": "code",
   "execution_count": 2,
   "metadata": {},
   "outputs": [
    {
     "name": "stderr",
     "output_type": "stream",
     "text": [
      "\r",
      "  0%|          | 0/5219 [00:00<?, ?it/s]"
     ]
    },
    {
     "name": "stdout",
     "output_type": "stream",
     "text": [
      "Loading Chinh tri Xa hoi (1/10):\n"
     ]
    },
    {
     "name": "stderr",
     "output_type": "stream",
     "text": [
      "100%|██████████| 5219/5219 [00:17<00:00, 292.20it/s]\n",
      "  1%|          | 19/2481 [00:00<00:13, 184.58it/s]"
     ]
    },
    {
     "name": "stdout",
     "output_type": "stream",
     "text": [
      "Loading Vi tinh (2/10):\n"
     ]
    },
    {
     "name": "stderr",
     "output_type": "stream",
     "text": [
      "100%|██████████| 2481/2481 [00:01<00:00, 1939.47it/s]\n",
      "  0%|          | 13/3159 [00:00<00:24, 127.36it/s]"
     ]
    },
    {
     "name": "stdout",
     "output_type": "stream",
     "text": [
      "Loading Doi song (3/10):\n"
     ]
    },
    {
     "name": "stderr",
     "output_type": "stream",
     "text": [
      "100%|██████████| 3159/3159 [00:07<00:00, 422.12it/s]\n",
      "  0%|          | 11/3080 [00:00<00:28, 109.56it/s]"
     ]
    },
    {
     "name": "stdout",
     "output_type": "stream",
     "text": [
      "Loading Van hoa (4/10):\n"
     ]
    },
    {
     "name": "stderr",
     "output_type": "stream",
     "text": [
      "100%|██████████| 3080/3080 [00:06<00:00, 508.99it/s]\n",
      "  0%|          | 18/3868 [00:00<00:21, 179.10it/s]"
     ]
    },
    {
     "name": "stdout",
     "output_type": "stream",
     "text": [
      "Loading Phap luat (5/10):\n"
     ]
    },
    {
     "name": "stderr",
     "output_type": "stream",
     "text": [
      "100%|██████████| 3868/3868 [00:08<00:00, 476.99it/s]\n",
      "  1%|          | 19/2552 [00:00<00:13, 185.24it/s]"
     ]
    },
    {
     "name": "stdout",
     "output_type": "stream",
     "text": [
      "Loading Kinh doanh (6/10):\n"
     ]
    },
    {
     "name": "stderr",
     "output_type": "stream",
     "text": [
      "100%|██████████| 2552/2552 [00:03<00:00, 688.83it/s]\n",
      "  1%|▏         | 25/1820 [00:00<00:07, 243.92it/s]"
     ]
    },
    {
     "name": "stdout",
     "output_type": "stream",
     "text": [
      "Loading Khoa hoc (7/10):\n"
     ]
    },
    {
     "name": "stderr",
     "output_type": "stream",
     "text": [
      "100%|██████████| 1820/1820 [00:01<00:00, 1291.44it/s]\n",
      "  1%|          | 25/2898 [00:00<00:12, 238.90it/s]"
     ]
    },
    {
     "name": "stdout",
     "output_type": "stream",
     "text": [
      "Loading The gioi (8/10):\n"
     ]
    },
    {
     "name": "stderr",
     "output_type": "stream",
     "text": [
      "100%|██████████| 2898/2898 [00:03<00:00, 731.34it/s] \n",
      "  0%|          | 14/3384 [00:00<00:26, 128.65it/s]"
     ]
    },
    {
     "name": "stdout",
     "output_type": "stream",
     "text": [
      "Loading Suc khoe (9/10):\n"
     ]
    },
    {
     "name": "stderr",
     "output_type": "stream",
     "text": [
      "100%|██████████| 3384/3384 [00:08<00:00, 414.61it/s]\n",
      "  0%|          | 10/5298 [00:00<00:53, 99.48it/s]"
     ]
    },
    {
     "name": "stdout",
     "output_type": "stream",
     "text": [
      "Loading The thao (10/10):\n"
     ]
    },
    {
     "name": "stderr",
     "output_type": "stream",
     "text": [
      "100%|██████████| 5298/5298 [00:21<00:00, 248.98it/s]"
     ]
    },
    {
     "name": "stdout",
     "output_type": "stream",
     "text": [
      "Load 33759 files complete !\n"
     ]
    },
    {
     "name": "stderr",
     "output_type": "stream",
     "text": [
      "\n"
     ]
    }
   ],
   "source": [
    "data = []\n",
    "data_path = os.path.dirname(os.getcwd()) + '/data/VNTC/Data/10Topics/Ver1.1/Train_Full'\n",
    "folders = os.listdir(data_path)\n",
    "for i, folder in enumerate(folders):\n",
    "    print(\"Loading %s (%d/%d):\"%(folder, i+1, len(folders)))\n",
    "    filenames = os.listdir('%s/%s/'%(data_path, folder))\n",
    "    for filename in tqdm(filenames):\n",
    "        filepath = '%s/%s/%s'%(data_path, folder, filename)\n",
    "        doc = open(filepath, 'r', encoding='utf-16').read()\n",
    "        data.append(doc)\n",
    "print(\"Load %d files complete !\"%len(data)) "
   ]
  },
  {
   "cell_type": "code",
   "execution_count": 7,
   "metadata": {},
   "outputs": [
    {
     "data": {
      "text/plain": [
       "'Hà Nội sắp ngừng đăng ký xe máy tại 3 quận \\nTheo Phó chủ tịch UBND thành phố Đỗ Hoàng Ân, đầu năm 2005 có thể tiếp tục hạn chế đăng ký xe máy mới tại 3 quận Cầu Giấy, Thanh Xuân, Tây Hồ theo lộ trình. Hiện các ban ngành thành phố đang nghiên cứu để đưa ra thời điểm chính thức. \\n- Thưa ông, tại sao phải ngừng đăng ký xe máy thêm 3 quận nội thành? \\n- Theo Nghị quyết HĐND, thành phố sẽ ngừng đăng ký xe máy mới tại các quận theo lộ trình nhằm hạn chế phương tiện cá nhân. Hiện nay, quản lý của nhà nước chưa rõ, phương tiện do người dân mua nhiều gây rối loạn thị trường và ùn tắc giao thông. \\n- Hạn chế xe mới ở nội thành thì có thể xe ngoại tỉnh tràn vào thành phố, có ý kiến nên hạn chế cả xe ngoại tỉnh, ông nghĩ sao?\\n- Không thể hạn chế xe ngoại tỉnh vì người dân sống trong và ngoài thành phố vẫn sử dụng phương tiện theo nhu cầu cuộc sống. \\nSong có lẽ trong thành phố nghĩ đến hạn chế bớt phương tiện vào khu vực trung tâm, tạo ra những tuyến chuyên dành cho xe buýt để hạn chế giao thông cá nhân. Như ở một một số nước, phương tiện cá nhân nào sử dụng thời gian lâu ở trong nội thành sẽ có khoản phí nhất định, sẽ hạn chế xe cá nhân và thúc đẩy phương tiện công cộng. \\nNgoài ra, Hà Nội cần có định hướng lâu dài về quy hoạch, ngoài phát triển hạ tầng còn phải giãn trụ sở hành chính, nhà máy xí nghiệp và dân cư nội thành, hạn chế nhà cao tầng trong nội đô thì người dân sẽ tập trung ra phía ngoài. Bằng nhiều giải pháp sẽ có tác dụng giảm dần ùn tắc giao thông. \\n- Nhu cầu đăng ký ôtô cá nhân đang tăng song hạ tầng giao thông chưa đáp ứng, thành phố có những giải pháp gì trong thời gian tới?\\n- Cần đẩy mạnh phát triển hạ tầng, đặc biệt là các bến, bãi đỗ xe sẽ tiến hành xã hội hóa. \\nHạ tầng hiện nay phát triển không cân đối với phát triển phương tiện. Dù có xây dựng một vài nút giao thông song chưa đáp ứng được nhu cầu và làm chậm chễ dù đã có quy hoạch. Như một số nút trọng điểm Ngã Tư Sở, Ngã Tư Vọng 4-5 năm nay đã làm được đâu. \\nPhương tiện do người dân đầu tư, còn hạ tầng do nhà nước đầu tư. Do vậy, cần có chính sách đổi mới cho đầu tư phát triển hạ tầng. Như một số nước, ngân sách tập trung đầu tư cho phát triển hạ tầng hơn đầu tư các lĩnh vực khác. \\n- Càng về cuối năm, thành phố càng gia tăng ùn tắc giao thông, liệu có tính đến phương án lắp đặt cầu phao Khuyến Lương?\\n- Thành phố đang giao các ngành rà soát số phương tiện qua cầu Chương Dương, nếu cần thiết sẽ tiến hành lắp cầu phao cuối tháng này. \\n- Mặc dù có nhiều biện pháp nhằm giảm tai nạn giao thông, song Hà Nội vẫn không giảm 3 chỉ tiêu số vụ tai nạn, số người chết và bị thương trong năm 2004, xin ông cho biết nguyên nhân và giải pháp cho năm 2005? \\n- Khi hạ tầng đô thị dừng ở mức độ đó song nhu cầu đi lại tăng, thì dù mức độ dân trí có tăng và báo chí tuyên truyền nhiều, thì thực tế ra, số vụ tai nạn vẫn tăng. 6 tháng cuối năm có giảm hơn về số tai nạn nguy hiểm song số vụ vẫn xảy ra nhiều hơn. \\nNgoài ra, mức độ xử phạt của chúng ta thấp, không đủ để răn đe. Tôi vừa đi Italy về, thấy họ xử phạt tai nạn giao thông rất nặng, vi phạm là bị phạt \"chết\" luôn. \\nTôi nghĩ cần có biện pháp quyết liệt, tập trung hơn, để hạn chế mức thấp nhất như tuyên tryền giáo dục. Thành phố sẽ tổ chức tập huấn, trao đổi rút kinh nghiệm để nâng cao dân trí, kết hợp cuộc vận động của các đoàn thể tốt hơn. Tôi vẫn nghĩ biện pháp giáo dục là tốt nhất, song vẫn cần thường xuyên duy trì xử phạt.\\n\\n'"
      ]
     },
     "execution_count": 7,
     "metadata": {},
     "output_type": "execute_result"
    }
   ],
   "source": [
    "data[0]"
   ]
  },
  {
   "cell_type": "markdown",
   "metadata": {},
   "source": [
    "## 2. Pre-processing"
   ]
  },
  {
   "cell_type": "code",
   "execution_count": 3,
   "metadata": {},
   "outputs": [],
   "source": [
    "# Load Vietnamese Stopwords\n",
    "filename = os.path.dirname(os.getcwd()) + '/data/vietnamese-stopwords/vietnamese-stopwords.txt'\n",
    "temps = open(filename, 'r', encoding='utf-8').readlines()"
   ]
  },
  {
   "cell_type": "code",
   "execution_count": 4,
   "metadata": {},
   "outputs": [
    {
     "data": {
      "text/plain": [
       "['a lô',\n",
       " 'a ha',\n",
       " 'ai',\n",
       " 'ai ai',\n",
       " 'ai nấy',\n",
       " 'ai đó',\n",
       " 'alô',\n",
       " 'amen',\n",
       " 'anh',\n",
       " 'anh ấy']"
      ]
     },
     "execution_count": 4,
     "metadata": {},
     "output_type": "execute_result"
    }
   ],
   "source": [
    "stopwords = [t.rstrip() for t in temps]\n",
    "stopwords[:10]"
   ]
  },
  {
   "cell_type": "code",
   "execution_count": 5,
   "metadata": {},
   "outputs": [
    {
     "name": "stderr",
     "output_type": "stream",
     "text": [
      "100%|██████████| 33759/33759 [35:16<00:00, 15.95it/s]    \n"
     ]
    }
   ],
   "source": [
    "from underthesea import word_tokenize\n",
    "import re\n",
    "\n",
    "def clean_text(text):\n",
    "    tokenized_text = word_tokenize(text.lower())\n",
    "    cleaned_text = [t for t in tokenized_text if t not in stopwords and re.match('[a-zA-Z\\-][a-zA-Z\\-]{2,}', t)]\n",
    "    return cleaned_text\n",
    "\n",
    "# For gensim we need to tokenize the data and filter out stopwords\n",
    "tokenized_data = []\n",
    "# For test, we just use 100 docs\n",
    "for text in tqdm(data):\n",
    "    tokenized_data.append(clean_text(text))"
   ]
  },
  {
   "cell_type": "code",
   "execution_count": 6,
   "metadata": {},
   "outputs": [],
   "source": [
    "# Build a Dictionary - association word to numeric id\n",
    "from gensim import corpora\n",
    "dictionary = corpora.Dictionary(tokenized_data)"
   ]
  },
  {
   "cell_type": "code",
   "execution_count": 7,
   "metadata": {},
   "outputs": [
    {
     "name": "stdout",
     "output_type": "stream",
     "text": [
      "61732 words\n"
     ]
    },
    {
     "data": {
      "text/plain": [
       "['ban ngành',\n",
       " 'cao tầng',\n",
       " 'chuyên',\n",
       " 'duy trì',\n",
       " 'gia tăng',\n",
       " 'giao',\n",
       " 'giao thông',\n",
       " 'italy',\n",
       " 'khoản',\n",
       " 'khu vực',\n",
       " 'khuyến',\n",
       " 'kinh nghiệm',\n",
       " 'mua',\n",
       " 'nghiên cứu',\n",
       " 'nghị quyết',\n",
       " 'ngoại tỉnh',\n",
       " 'nguy hiểm',\n",
       " 'nguyên nhân',\n",
       " 'nhu cầu',\n",
       " 'quy hoạch']"
      ]
     },
     "execution_count": 7,
     "metadata": {},
     "output_type": "execute_result"
    }
   ],
   "source": [
    "a = list(dictionary.values())\n",
    "print(len(a) , 'words')\n",
    "a[:20]"
   ]
  },
  {
   "cell_type": "code",
   "execution_count": 26,
   "metadata": {},
   "outputs": [],
   "source": [
    "# Transform the collection of texts to a numerical form\n",
    "corpus = [dictionary.doc2bow(text) for text in tokenized_data]"
   ]
  },
  {
   "cell_type": "code",
   "execution_count": 27,
   "metadata": {},
   "outputs": [
    {
     "data": {
      "text/plain": [
       "[(0, 1),\n",
       " (1, 1),\n",
       " (2, 1),\n",
       " (3, 1),\n",
       " (4, 1),\n",
       " (5, 1),\n",
       " (6, 8),\n",
       " (7, 1),\n",
       " (8, 1),\n",
       " (9, 1),\n",
       " (10, 1),\n",
       " (11, 1),\n",
       " (12, 1),\n",
       " (13, 1),\n",
       " (14, 1),\n",
       " (15, 3),\n",
       " (16, 1),\n",
       " (17, 1),\n",
       " (18, 4),\n",
       " (19, 2)]"
      ]
     },
     "execution_count": 27,
     "metadata": {},
     "output_type": "execute_result"
    }
   ],
   "source": [
    "corpus[0][:20]"
   ]
  },
  {
   "cell_type": "markdown",
   "metadata": {},
   "source": [
    "# Evaluatation"
   ]
  },
  {
   "cell_type": "code",
   "execution_count": 18,
   "metadata": {},
   "outputs": [],
   "source": [
    "from gensim import models\n",
    "from matplotlib import pyplot as plt\n",
    "\n",
    "def compute_coherence_values(dictionary, corpus, doc_clean, stop, start=2, step=3):\n",
    "    \"\"\"\n",
    "    Input   : dictionary : Gensim dictionary\n",
    "              corpus : Gensim corpus\n",
    "              texts : List of input texts\n",
    "              stop : Max num of topics\n",
    "    purpose : Compute c_v coherence for various number of topics\n",
    "    Output  : model_list : List of LSA topic models\n",
    "              coherence_values : Coherence values corresponding to the LDA model with respective number of topics\n",
    "    \"\"\"\n",
    "    coherence_values = []\n",
    "    for num_topics in tqdm(range(start, stop, step)):\n",
    "        # generate LSA model\n",
    "        model = models.LsiModel(corpus, num_topics=num_topics, id2word = dictionary)  # train model\n",
    "#         model_list.append(model)\n",
    "        coherencemodel = models.coherencemodel.CoherenceModel(model=model, texts=doc_clean, dictionary=dictionary, coherence='c_v')\n",
    "        coherence_values.append(coherencemodel.get_coherence())\n",
    "    return coherence_values"
   ]
  },
  {
   "cell_type": "code",
   "execution_count": 19,
   "metadata": {},
   "outputs": [
    {
     "name": "stderr",
     "output_type": "stream",
     "text": [
      "100%|██████████| 28/28 [04:53<00:00, 10.48s/it]\n"
     ]
    }
   ],
   "source": [
    "start,stop,step=2,30,1\n",
    "coherence_values = compute_coherence_values(dictionary, corpus,tokenized_data,\n",
    "                                                            stop, start, step)"
   ]
  },
  {
   "cell_type": "code",
   "execution_count": 20,
   "metadata": {},
   "outputs": [
    {
     "name": "stdout",
     "output_type": "stream",
     "text": [
      "Best topic number: 5 (0.514210)\n"
     ]
    }
   ],
   "source": [
    "max_coh = max(coherence_values)\n",
    "best_topic_num = coherence_values.index(max_coh) + start\n",
    "print(\"Best topic number: %d (%f)\"%(best_topic_num, max_coh))"
   ]
  },
  {
   "cell_type": "code",
   "execution_count": 24,
   "metadata": {},
   "outputs": [
    {
     "data": {
      "text/plain": [
       "0.3683218211790906"
      ]
     },
     "execution_count": 24,
     "metadata": {},
     "output_type": "execute_result"
    }
   ],
   "source": [
    "coherence_values[0]"
   ]
  },
  {
   "cell_type": "code",
   "execution_count": 21,
   "metadata": {},
   "outputs": [
    {
     "data": {
      "image/png": "[encoded data removed]",
      "text/plain": [
       "<Figure size 432x288 with 1 Axes>"
      ]
     },
     "metadata": {
      "needs_background": "light"
     },
     "output_type": "display_data"
    }
   ],
   "source": [
    "x = range(start, stop, step)\n",
    "plt.plot(x, coherence_values)\n",
    "plt.xlabel(\"Number of Topics\")\n",
    "plt.ylabel(\"Coherence score\")\n",
    "plt.legend((\"coherence_values\"), loc='best')\n",
    "plt.show()"
   ]
  },
  {
   "cell_type": "markdown",
   "metadata": {},
   "source": [
    "## Create best LSA model"
   ]
  },
  {
   "cell_type": "code",
   "execution_count": 28,
   "metadata": {},
   "outputs": [],
   "source": [
    "# Build the LSI model\n",
    "from gensim import models\n",
    "lsi_model = models.LsiModel(corpus=corpus, num_topics=best_topic_num, id2word=dictionary)"
   ]
  },
  {
   "cell_type": "code",
   "execution_count": 29,
   "metadata": {},
   "outputs": [],
   "source": [
    "# Save model\n",
    "lsi_model.save(\"lsa_vnese.model\")"
   ]
  },
  {
   "cell_type": "code",
   "execution_count": 30,
   "metadata": {},
   "outputs": [
    {
     "name": "stdout",
     "output_type": "stream",
     "text": [
      "LSI Model:\n",
      "Topic #0: 0.726*\"nam\" + 0.318*\"hai\" + 0.280*\"thi\" + 0.126*\"doanh nghiệp\" + 0.109*\"hlv\" + 0.102*\"triệu\" + 0.089*\"usd\" + 0.088*\"kinh tế\" + 0.086*\"lan\" + 0.083*\"thi đấu\"\n",
      "Topic #1: -0.807*\"thi\" + 0.253*\"hai\" + -0.170*\"hoc\" + 0.139*\"hlv\" + 0.117*\"nam\" + -0.108*\"tuyển sinh\" + -0.107*\"truong\" + -0.105*\"sinh\" + -0.098*\"khong\" + 0.093*\"thi đấu\"\n",
      "Topic #2: -0.527*\"nam\" + 0.450*\"hai\" + 0.269*\"thi\" + 0.238*\"hlv\" + 0.153*\"chelsea\" + 0.144*\"pha\" + -0.141*\"doanh nghiệp\" + 0.138*\"chiến thắng\" + 0.132*\"thi đấu\" + 0.123*\"arsenal\"\n",
      "Topic #3: 0.902*\"phim\" + 0.184*\"vai\" + -0.113*\"nam\" + -0.104*\"hlv\" + 0.081*\"usd\" + 0.080*\"thuốc\" + 0.079*\"triệu\" + 0.075*\"gia đình\" + -0.073*\"chelsea\" + -0.073*\"thi đấu\"\n",
      "Topic #4: 0.447*\"thuốc\" + 0.319*\"usd\" + -0.304*\"phim\" + 0.284*\"triệu\" + -0.249*\"nam\" + 0.194*\"mua\" + 0.176*\"doanh nghiệp\" + 0.170*\"gia đình\" + 0.143*\"hai\" + -0.142*\"hlv\"\n"
     ]
    }
   ],
   "source": [
    "print(\"LSI Model:\")\n",
    " \n",
    "for idx in range(best_topic_num):\n",
    "    # Print the first 10 most representative topics\n",
    "    print(\"Topic #%s:\" % idx, lsi_model.print_topic(idx, 10))"
   ]
  },
  {
   "cell_type": "markdown",
   "metadata": {},
   "source": [
    "## Wordcloud Visualization"
   ]
  },
  {
   "cell_type": "code",
   "execution_count": 33,
   "metadata": {},
   "outputs": [],
   "source": [
    "import multidict as multidict\n",
    "from wordcloud import WordCloud\n",
    "import numpy as np\n",
    "from PIL import Image"
   ]
  },
  {
   "cell_type": "code",
   "execution_count": 34,
   "metadata": {},
   "outputs": [
    {
     "data": {
      "image/png": "[encoded data removed]",
      "text/plain": [
       "<Figure size 432x288 with 1 Axes>"
      ]
     },
     "metadata": {
      "needs_background": "light"
     },
     "output_type": "display_data"
    }
   ],
   "source": [
    "def draw_wordcloud(model, topic_num, word_num=30, save=False):\n",
    "    temp = model.show_topic(topic_num - 1, word_num)\n",
    "    fullTermsDict = multidict.MultiDict()\n",
    "    for t in temp:\n",
    "        fullTermsDict.add(t[0], round(t[1]*100))\n",
    "    mask = np.array(Image.open(\"cloud_mask.png\"))\n",
    "    wc = WordCloud(background_color=\"white\", max_words=50, mask=mask)\n",
    "    wc.generate_from_frequencies(fullTermsDict)\n",
    "    plt.imshow(wc, interpolation=\"bilinear\")\n",
    "    plt.axis(\"off\")\n",
    "    if save == True:\n",
    "        plt.savefig('topic_%d.png'%(topic_num), dpi=100)\n",
    "    plt.show()\n",
    "draw_wordcloud(lsi_model, 2, save=True)"
   ]
  },
  {
   "cell_type": "code",
   "execution_count": null,
   "metadata": {},
   "outputs": [],
   "source": []
  }
 ],
 "metadata": {
  "kernelspec": {
   "display_name": "Python 3",
   "language": "python",
   "name": "python3"
  },
  "language_info": {
   "codemirror_mode": {
    "name": "ipython",
    "version": 3
   },
   "file_extension": ".py",
   "mimetype": "text/x-python",
   "name": "python",
   "nbconvert_exporter": "python",
   "pygments_lexer": "ipython3",
   "version": "3.7.4"
  }
 },
 "nbformat": 4,
 "nbformat_minor": 2
}
