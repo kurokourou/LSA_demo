{
 "cells": [
  {
   "cell_type": "markdown",
   "metadata": {},
   "source": [
    "# Latent Semantic Analysis demo  \n",
    "---\n",
    "Demo LSA using Julia  \n",
    "Origin: Alex Thomo's [tutorial](https://pdfs.semanticscholar.org/3efd/a6e61747fea6b5cb5fa4f3ff0a14c86a638c.pdf)"
   ]
  },
  {
   "cell_type": "code",
   "execution_count": 1,
   "metadata": {},
   "outputs": [],
   "source": [
    "import numpy as np"
   ]
  },
  {
   "cell_type": "markdown",
   "metadata": {},
   "source": [
    "**Example Documents:**  \n",
    " * d1 : Romeo and Juliet.  \n",
    " * d2 : Juliet: O happy dagger!  \n",
    " * d3 : Romeo died by dagger.  \n",
    " * d4 : “Live free or die”, that’s the New-Hampshire’s motto.  \n",
    " * d5 : Did you know, New-Hampshire is in New-England.  \n",
    "\n",
    "**Document term Matrix Example:**\n",
    "![Doc-term matrix](images/matrix.png)"
   ]
  },
  {
   "cell_type": "code",
   "execution_count": 48,
   "metadata": {},
   "outputs": [],
   "source": [
    "term_dict = Dict(\"romeo\"=>1,\"juliet\"=>2,\"happy\"=>3, \"dagger\"=>4, \"live\"=>5,\n",
    "                 \"die\"=>6, \"free\"=>7, \"new-hampshire\"=>8);\n",
    "doc_dict = Dict(\"d1\"=>1,\"d2\"=>2,\"d3\"=>3,\"d4\"=>4,\"d5\"=>5);"
   ]
  },
  {
   "cell_type": "code",
   "execution_count": 2,
   "metadata": {},
   "outputs": [
    {
     "data": {
      "text/plain": [
       "8×5 Array{Int64,2}:\n",
       " 1  0  1  0  0\n",
       " 1  1  0  0  0\n",
       " 0  1  0  0  0\n",
       " 0  1  1  0  0\n",
       " 0  0  0  1  0\n",
       " 0  0  1  1  0\n",
       " 0  0  0  1  0\n",
       " 0  0  0  1  1"
      ]
     },
     "execution_count": 2,
     "metadata": {},
     "output_type": "execute_result"
    }
   ],
   "source": [
    "A = [1 0 1 0 0;\n",
    "     1 1 0 0 0;\n",
    "     0 1 0 0 0;\n",
    "     0 1 1 0 0;\n",
    "     0 0 0 1 0;\n",
    "     0 0 1 1 0;\n",
    "     0 0 0 1 0;\n",
    "     0 0 0 1 1]"
   ]
  },
  {
   "cell_type": "code",
   "execution_count": null,
   "metadata": {},
   "outputs": [],
   "source": [
    "# Full Singular Value Decomposition\n",
    "U,Σ,V = svd(A);"
   ]
  },
  {
   "cell_type": "code",
   "execution_count": 20,
   "metadata": {},
   "outputs": [
    {
     "name": "stdout",
     "output_type": "stream",
     "text": [
      "Left singular vectors\n"
     ]
    },
    {
     "data": {
      "text/plain": [
       "8×5 Array{Float64,2}:\n",
       " -0.396153   0.280057  -0.571171    0.449685   -0.101839 \n",
       " -0.314268   0.449532   0.410591    0.513018    0.203906 \n",
       " -0.17824    0.268992   0.497321   -0.256998    0.0430523\n",
       " -0.438364   0.368508   0.0128792  -0.577329   -0.21964  \n",
       " -0.263881  -0.345921   0.145789    0.0474849   0.417484 \n",
       " -0.524005  -0.246405  -0.338652   -0.272846    0.154791 \n",
       " -0.263881  -0.345921   0.145789    0.0474849   0.417484 \n",
       " -0.326373  -0.459669   0.317003    0.237244   -0.724851 "
      ]
     },
     "execution_count": 20,
     "metadata": {},
     "output_type": "execute_result"
    }
   ],
   "source": [
    "println(\"Left singular vectors\")\n",
    "U"
   ]
  },
  {
   "cell_type": "code",
   "execution_count": 32,
   "metadata": {},
   "outputs": [
    {
     "name": "stdout",
     "output_type": "stream",
     "text": [
      "Singular values\n"
     ]
    },
    {
     "data": {
      "text/plain": [
       "5×5 Diagonal{Float64,Array{Float64,1}}:\n",
       " 2.2853   ⋅        ⋅       ⋅        ⋅      \n",
       "  ⋅      2.01026   ⋅       ⋅        ⋅      \n",
       "  ⋅       ⋅       1.3607   ⋅        ⋅      \n",
       "  ⋅       ⋅        ⋅      1.11814   ⋅      \n",
       "  ⋅       ⋅        ⋅       ⋅       0.796577"
      ]
     },
     "execution_count": 32,
     "metadata": {},
     "output_type": "execute_result"
    }
   ],
   "source": [
    "println(\"Singular values\")\n",
    "Diagonal(Σ)"
   ]
  },
  {
   "cell_type": "code",
   "execution_count": 23,
   "metadata": {},
   "outputs": [
    {
     "name": "stdout",
     "output_type": "stream",
     "text": [
      "Right singular vectors\n"
     ]
    },
    {
     "data": {
      "text/plain": [
       "5×5 Array{Float64,2}:\n",
       " -0.310866  -0.40733    -0.594461  -0.603046   -0.142814\n",
       "  0.362933   0.540742    0.200054  -0.695391   -0.228662\n",
       " -0.118013   0.676704   -0.659179   0.198375    0.232971\n",
       "  0.860986  -0.28736    -0.358175   0.0530948   0.212177\n",
       "  0.128132   0.0342945  -0.209255   0.332558   -0.909958"
      ]
     },
     "execution_count": 23,
     "metadata": {},
     "output_type": "execute_result"
    }
   ],
   "source": [
    "println(\"Right singular vectors\")\n",
    "transpose(V)"
   ]
  },
  {
   "cell_type": "code",
   "execution_count": 24,
   "metadata": {},
   "outputs": [],
   "source": [
    "U_2, Σ_2, V_2 = tsvd(A, 2);"
   ]
  },
  {
   "cell_type": "code",
   "execution_count": 25,
   "metadata": {},
   "outputs": [
    {
     "data": {
      "text/plain": [
       "8×2 Array{Float64,2}:\n",
       " -0.396153   0.280057\n",
       " -0.314268   0.449532\n",
       " -0.17824    0.268992\n",
       " -0.438364   0.368508\n",
       " -0.263881  -0.345921\n",
       " -0.524005  -0.246405\n",
       " -0.263881  -0.345921\n",
       " -0.326373  -0.459669"
      ]
     },
     "execution_count": 25,
     "metadata": {},
     "output_type": "execute_result"
    }
   ],
   "source": [
    "U_2"
   ]
  },
  {
   "cell_type": "code",
   "execution_count": 26,
   "metadata": {},
   "outputs": [
    {
     "data": {
      "text/plain": [
       "2×5 Transpose{Float64,Array{Float64,2}}:\n",
       " -0.310866  -0.40733   -0.594461  -0.603046  -0.142814\n",
       "  0.362933   0.540742   0.200054  -0.695391  -0.228662"
      ]
     },
     "execution_count": 26,
     "metadata": {},
     "output_type": "execute_result"
    }
   ],
   "source": [
    "transpose(V_2)"
   ]
  },
  {
   "cell_type": "code",
   "execution_count": 27,
   "metadata": {},
   "outputs": [
    {
     "data": {
      "text/plain": [
       "8×5 Array{Float64,2}:\n",
       "  0.485762    0.673199  0.65081    0.154457    0.00056003\n",
       "  0.551237    0.781199  0.607724  -0.195303   -0.104067  \n",
       "  0.322878    0.45832   0.35032   -0.130389   -0.0654744 \n",
       "  0.580283    0.808641  0.743726   0.0889825  -0.0263216 \n",
       " -0.0649144  -0.130389  0.219371   0.847233    0.245133  \n",
       "  0.19249     0.219931  0.612777   1.0666      0.284286  \n",
       " -0.0649144  -0.130389  0.219371   0.847233    0.245133  \n",
       " -0.103507   -0.195863  0.258524   1.09237     0.317815  "
      ]
     },
     "execution_count": 27,
     "metadata": {},
     "output_type": "execute_result"
    }
   ],
   "source": [
    "A_2 = U_2 * Diagonal(Σ_2) * transpose(V_2)"
   ]
  },
  {
   "cell_type": "code",
   "execution_count": 42,
   "metadata": {},
   "outputs": [
    {
     "data": {
      "text/plain": [
       "8×2 Array{Float64,2}:\n",
       " -0.905327   0.562988\n",
       " -0.718196   0.903676\n",
       " -0.40733    0.540742\n",
       " -1.00179    0.740797\n",
       " -0.603046  -0.695391\n",
       " -1.19751   -0.495337\n",
       " -0.603046  -0.695391\n",
       " -0.74586   -0.924053"
      ]
     },
     "execution_count": 42,
     "metadata": {},
     "output_type": "execute_result"
    }
   ],
   "source": [
    "# Terms matrix \n",
    "Term_Mat = U_2*Diagonal(Σ_2)"
   ]
  },
  {
   "cell_type": "code",
   "execution_count": 43,
   "metadata": {},
   "outputs": [
    {
     "data": {
      "text/plain": [
       "2×5 Array{Float64,2}:\n",
       " -0.710421  -0.930871  -1.35852   -1.37814  -0.326373\n",
       "  0.72959    1.08703    0.402161  -1.39792  -0.459669"
      ]
     },
     "execution_count": 43,
     "metadata": {},
     "output_type": "execute_result"
    }
   ],
   "source": [
    "# Document matrix\n",
    "Doc_Mat = Diagonal(Σ_2)*transpose(V_2)"
   ]
  },
  {
   "cell_type": "code",
   "execution_count": 49,
   "metadata": {},
   "outputs": [
    {
     "data": {
      "text/plain": [
       "2-element Array{Float64,1}:\n",
       " -0.7104208351469699\n",
       "  0.7295895033822464"
      ]
     },
     "execution_count": 49,
     "metadata": {},
     "output_type": "execute_result"
    }
   ],
   "source": []
  },
  {
   "cell_type": "markdown",
   "metadata": {},
   "source": [
    "**Example Query:** q = die , dagger"
   ]
  },
  {
   "cell_type": "code",
   "execution_count": 45,
   "metadata": {},
   "outputs": [
    {
     "data": {
      "text/plain": [
       "2-element Array{Float64,1}:\n",
       " -1.0996494544510007 \n",
       "  0.12272993805911761"
      ]
     },
     "execution_count": 45,
     "metadata": {},
     "output_type": "execute_result"
    }
   ],
   "source": [
    "# Query representation\n",
    "# die = [-1.19751   -0.495337]\n",
    "# dagger = [-1.00179    0.740797]\n",
    "die = Term_Mat[term_dict[\"die\"],:]\n",
    "dagger = Term_Mat[term_dict[\"dagger\"],:]\n",
    "q = (die + dagger)/2\n",
    "q"
   ]
  },
  {
   "cell_type": "code",
   "execution_count": 50,
   "metadata": {},
   "outputs": [
    {
     "data": {
      "text/plain": [
       "0.7727964887537597"
      ]
     },
     "execution_count": 50,
     "metadata": {},
     "output_type": "execute_result"
    }
   ],
   "source": [
    "# Documents similarity ranking\n",
    "# Ex: d1 [-0.710421 0.72959]\n",
    "d1 = Doc_Mat[:,doc_dict[\"d1\"]]\n",
    "sim = dot(q,d1)/(norm(q)*norm(d1))"
   ]
  },
  {
   "cell_type": "markdown",
   "metadata": {},
   "source": [
    "![Documents and query similarity](images/doc_sim.png)"
   ]
  },
  {
   "cell_type": "code",
   "execution_count": null,
   "metadata": {},
   "outputs": [],
   "source": []
  }
 ],
 "metadata": {
  "kernelspec": {
   "display_name": "Python 3",
   "language": "python",
   "name": "python3"
  },
  "language_info": {
   "codemirror_mode": {
    "name": "ipython",
    "version": 3
   },
   "file_extension": ".py",
   "mimetype": "text/x-python",
   "name": "python",
   "nbconvert_exporter": "python",
   "pygments_lexer": "ipython3",
   "version": "3.7.4"
  }
 },
 "nbformat": 4,
 "nbformat_minor": 2
}
